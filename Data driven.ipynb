{
 "cells": [
  {
   "cell_type": "code",
   "execution_count": 4,
   "id": "b7d309f0",
   "metadata": {},
   "outputs": [],
   "source": [
    "import pandas as pd\n",
    "import numpy as np"
   ]
  },
  {
   "cell_type": "code",
   "execution_count": null,
   "id": "3c5c8427",
   "metadata": {},
   "outputs": [],
   "source": [
    "# Carica i due file\n",
    "df_old = pd.read_csv(\"Data driven/Case_1_Warehouse_and_Retail_Alcohol_Sales.csv\", sep=\";\")\n",
    "df_new = pd.read_csv(\"Data driven/Warehouse_and_Retail_Sales_20251017.csv\")\n",
    "\n",
    "# Uniforma le colonne\n",
    "def std(df):\n",
    "    df = df.copy()\n",
    "    df.columns = [c.strip().upper().replace(\" \", \"_\") for c in df.columns]\n",
    "    return df\n",
    "\n",
    "old = std(df_old)\n",
    "new = std(df_new)\n",
    "\n",
    "# Scegli le chiavi di allineamento (aggiungi se vuoi: \"ITEM_TYPE\",\"SUPPLIER\",\"ITEM_CODE\")\n",
    "keys = [\"YEAR\",\"MONTH\"]\n",
    "\n",
    "# Metti indice e ordina\n",
    "p = old.set_index(keys).sort_index()\n",
    "s = new.set_index(keys).sort_index()\n",
    "\n",
    "# (Opzionale) considera gli 0 come \"buchi\" solo per queste colonne\n",
    "num_cols = [\"RETAIL_SALES\",\"WAREHOUSE_SALES\",\"RETAIL_TRANSFERS\"]\n",
    "for c in num_cols:\n",
    "    if c in p.columns:\n",
    "        p[c] = pd.to_numeric(p[c], errors=\"coerce\")\n",
    "        p[c] = p[c].replace(0, np.nan)\n",
    "\n",
    "# Riempie i buchi del primo con i valori del secondo\n",
    "filled = p.combine_first(s).reset_index()\n",
    "\n",
    "# (Opzionale) rimetti gli NaN a 0 per esportare pulito\n",
    "for c in num_cols:\n",
    "    if c in filled.columns:\n",
    "        filled[c] = filled[c].fillna(0)\n",
    "\n",
    "# Salva\n",
    "filled.to_csv(\"dataset_unificato.csv\", index=False)"
   ]
  },
  {
   "cell_type": "code",
   "execution_count": 5,
   "id": "50e01aa8",
   "metadata": {},
   "outputs": [],
   "source": [
    "def wrangle(csv):\n",
    "\n",
    "    df = pd.read_csv(csv)\n",
    "\n",
    "    df = df.drop(df[df[\"ITEM_TYPE\"] == \"REF\"].index)\n",
    "\n",
    "    df = df.drop(df[df[\"ITEM_TYPE\"] == \"STR_SUPPLIES\"].index)\n",
    "\n",
    "    df = df.drop(df[df[\"ITEM_TYPE\"] == \"DUNNAGE\"].index)\n",
    "\n",
    "    df['RETAIL_SALES'] = df['RETAIL_SALES'].str.replace(',', '.')\n",
    "    df[\"RETAIL_SALES\"] = df[\"RETAIL_SALES\"].astype(\"float\")\n",
    "\n",
    "    df['WAREHOUSE_SALES'] = df['WAREHOUSE_SALES'].str.replace(',', '.')\n",
    "    df[\"WAREHOUSE_SALES\"] = df[\"WAREHOUSE_SALES\"].astype(\"float\")\n",
    "\n",
    "    df['RETAIL_TRANSFERS'] = df['RETAIL_TRANSFERS'].str.replace(',', '.')\n",
    "    df[\"RETAIL_TRANSFERS\"] = df[\"RETAIL_TRANSFERS\"].astype(\"float\")\n",
    "\n",
    "    df['date'] = pd.to_datetime(df[['YEAR', 'MONTH']].assign(DAY=1))\n",
    "    df = df.set_index('date')\n",
    "\n",
    "    df.drop(columns=[\"YEAR\", \"MONTH\"], inplace=True)\n",
    "\n",
    "    df.dropna(inplace=True)\n",
    "\n",
    "    df[\"TOTAL_SALES\"] = df[\"WAREHOUSE_SALES\"] + df[\"RETAIL_SALES\"]\n",
    "\n",
    "    return df"
   ]
  }
 ],
 "metadata": {
  "kernelspec": {
   "display_name": "venv-3.13",
   "language": "python",
   "name": "venv-3.13"
  },
  "language_info": {
   "codemirror_mode": {
    "name": "ipython",
    "version": 3
   },
   "file_extension": ".py",
   "mimetype": "text/x-python",
   "name": "python",
   "nbconvert_exporter": "python",
   "pygments_lexer": "ipython3",
   "version": "3.13.7"
  }
 },
 "nbformat": 4,
 "nbformat_minor": 5
}
